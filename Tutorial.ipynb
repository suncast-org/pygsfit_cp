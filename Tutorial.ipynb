{
 "cells": [
  {
   "cell_type": "markdown",
   "metadata": {
    "collapsed": true,
    "jupyter": {
     "outputs_hidden": true
    },
    "pycharm": {
     "name": "#%% md\n"
    }
   },
   "source": [
    "# Tutorial on pygsfit_cp usage"
   ]
  },
  {
   "cell_type": "markdown",
   "metadata": {
    "collapsed": false,
    "jupyter": {
     "outputs_hidden": false
    },
    "pycharm": {
     "name": "#%% md\n"
    }
   },
   "source": [
    "## step1: create a pygsfit_cp object with EOVSA image cube and the path to save the fitting results files."
   ]
  },
  {
   "cell_type": "code",
   "execution_count": 1,
   "metadata": {
    "collapsed": false,
    "jupyter": {
     "outputs_hidden": false
    },
    "pycharm": {
     "name": "#%%\n"
    }
   },
   "outputs": [],
   "source": [
    "#skip tag\n",
    "#%matplotlib widget\n",
    "%matplotlib inline\n",
    "# When exporting this notebook to a .py file, use \"#skip tag\" to determine which cells are about to be exported."
   ]
  },
  {
   "cell_type": "code",
   "execution_count": 8,
   "metadata": {
    "collapsed": false,
    "jupyter": {
     "outputs_hidden": false
    },
    "pycharm": {
     "name": "#%%\n"
    }
   },
   "outputs": [
    {
     "name": "stdout",
     "output_type": "stream",
     "text": [
      "The EOVSA image cube is loaded, which is in size of 50(freqs) * 256pix * 256pix\n"
     ]
    }
   ],
   "source": [
    "#init single\n",
    "from pygsfit_cp import *\n",
    "import os\n",
    "import pkg_resources\n",
    "package_path = pkg_resources.resource_filename('pygsfit_cp', '')\n",
    "os.chdir(package_path)\n",
    "gs = pygsfit_cp(filename='/Users/walterwei/Downloads/20220511/eovsa/slfcal/images_slfcaled/slf_final_XX_t21_allbd.fits', out_dir='/Users/walterwei/Downloads/20220511/gsfit_test', fit_fov=[[920,-270],[940,-250]])\n",
    "#gs = pygsfit_cp()\n",
    "#gs = pygsfit_cp(filename='/Users/walterwei/Downloads/20220511/eovsa/slfcal/images_slfcaled/slf_final_XX_t21_allbd.fits', out_dir='/Users/walterwei/Downloads/20220511/gsfit_test')\n",
    "print('The EOVSA image cube is loaded, which is in size of {0}(freqs) * {1}pix * {2}pix'.format(*gs.flux_data.shape))"
   ]
  },
  {
   "cell_type": "code",
   "execution_count": null,
   "metadata": {},
   "outputs": [],
   "source": []
  },
  {
   "cell_type": "markdown",
   "metadata": {},
   "source": [
    "## step2 （Optional）: \n",
    "### read the documentation of input arrays then adjust the input arrays"
   ]
  },
  {
   "cell_type": "code",
   "execution_count": 3,
   "metadata": {},
   "outputs": [
    {
     "name": "stdout",
     "output_type": "stream",
     "text": [
      "=============\n",
      "       Nparms;           7              ; ;user ;Number of fit Parms\n",
      " Angular Code;           0             ; ;user ;0L for PK, 1L for FK\n",
      "         Npix;           1     ; ;data ;Number of pixels sent to dll\n",
      "        Nfreqst;          24  ; ;data ;Number of frequencies in the sp\n",
      " Fitting Mode;           1  ; ;user ;Case of the fit: I:1, L&R:2, I&\n",
      "  Stokes Data;           1  ; ;data ;Case of the data: I:1, L&R:2, I\n",
      "\n",
      "=============\n",
      "=============\n",
      "   SIMPLEX Step;   0.170       ;   ;user                           ;SIMPLEX Step\n",
      "    SIMPLEX EPS;   0.100E-05   ;   ;user                       ;SIMPLEX accuracy\n",
      " Flux Threshold;    1.00        ;sfu*GHz     ; user ;Flux threshold to be fitted\n",
      "     Pixel Area;    4.00       ;arcsec^2    ;data ;Number of pixels along y axes\n",
      "      LOS Depth;    8.00        ;arcsec               ;user ;LOS depth (assumed)\n",
      "           ;   0.150E-01  ;MeV ;user            ;Min energy in PLW (assumed)\n",
      "\n",
      "=============\n",
      "=============\n",
      "      n_nth;    1.00    ;   0.100E-03;   0.200E+04;   1d7 cm^-3                    ;Non-thermal density\n",
      "          B;    4.00    ;   0.100E-01;    30.0    ;       1d2G                          ;Magnetic field\n",
      "      theta;    60.0    ;    22.0    ;    87.0    ;         deg                     ;Viewing angle to B\n",
      "       n_th;    10.0    ;   0.100E-01;    600.    ;   1d9 cm^-3                        ;Thermal density\n",
      "      Delta;    4.50    ;    1.70    ;    15.0    ;          No                     ;PLW spectral index\n",
      "      E_max;    5.00    ;   0.100    ;    10.0    ;         MeV                      ;Max energy in PLW\n",
      "        T_e;    5.00    ;    1.50    ;    60.0    ;          MK                            ;Temperature\n",
      "\n",
      "=============\n"
     ]
    }
   ],
   "source": [
    "#skip tag\n",
    "#read the documentation of 'ninput', 'rinput', and 'initial_parguess' (Only these 3 files at this moment)\n",
    "gs.documentation('ninput')\n",
    "gs.documentation('rinput')\n",
    "gs.documentation('initial_parguess')"
   ]
  },
  {
   "cell_type": "markdown",
   "metadata": {},
   "source": [
    "### adjust the input arrays as needed."
   ]
  },
  {
   "cell_type": "code",
   "execution_count": 9,
   "metadata": {
    "collapsed": false,
    "jupyter": {
     "outputs_hidden": false
    },
    "pycharm": {
     "name": "#%%\n"
    }
   },
   "outputs": [],
   "source": [
    "gs.ninput = np.array([6, 0, 1, 30, 1, 1], dtype='int32') #Nparms, Angular_mode,Npix, Nfreq(will be replaced) fitting mode, stokes\n",
    "gs.rinput = np.array([0.17, 1e-6, 1.0, 4.0, 8.0, 0.015], dtype='float64')  # real_input\n",
    "gs.initial_parguess = np.array([ # *Value, *lower boundary * upper boundary\n",
    "                [10.0, 0.0001, 2000.0], #n_nth;    1d7 cm^-3\n",
    "                [1.0, 0.01, 10.0], #B;    1d2G\n",
    "                [60.0, 22.0, 87.0], #theta;    deg\n",
    "                [10.0, 0.01, 600.0], #n_th;    1d9 cm^-3\n",
    "                [3.5, 1.6, 10.0], #Delta;    No\n",
    "                [5.0, 0.1, 10.0], #E_max;    MeV\n",
    "                [10.0, 1.5, 60.0], #T_e;    MK\n",
    "            ], dtype=np.float64)"
   ]
  },
  {
   "cell_type": "markdown",
   "metadata": {},
   "source": [
    "## Step 3: \n",
    "### Adjust the ROI(region of interested) and the related parameters\n",
    "### Display the default setting: \n",
    "- background_xyrange = [[0.15,0.75],[0.25,0.85]] (RMS region in percentage of x and y range)\n",
    "- integrated_threshold_sfu = 1 (Threshold on the integrated flux density in one pixel)\n",
    "- rms_factor = 4 (The weight of RMS in the uncertainty calculation)"
   ]
  },
  {
   "cell_type": "code",
   "execution_count": 5,
   "metadata": {},
   "outputs": [
    {
     "data": {
      "image/png": "[encoded data removed]",
      "text/plain": [
       "<Figure size 432x288 with 2 Axes>"
      ]
     },
     "metadata": {
      "needs_background": "light"
     },
     "output_type": "display_data"
    }
   ],
   "source": [
    "#skip tag\n",
    "gs.plot_threshold_mask_rms(tar_freq_ghz=5.0) # tar_freq_ghz: Displayed frequency in GHz"
   ]
  },
  {
   "cell_type": "markdown",
   "metadata": {},
   "source": [
    "### adjust the setting:"
   ]
  },
  {
   "cell_type": "code",
   "execution_count": 7,
   "metadata": {},
   "outputs": [
    {
     "data": {
      "image/png": "[encoded data removed]",
      "text/plain": [
       "<Figure size 432x288 with 2 Axes>"
      ]
     },
     "metadata": {
      "needs_background": "light"
     },
     "output_type": "display_data"
    }
   ],
   "source": [
    "#skip tag\n",
    "gs.update_flux_threshold_mask(threshold=2.0)\n",
    "gs.background_xyrange = [[0.45,0.75],[0.55,0.85]]\n",
    "gs.plot_threshold_mask_rms(tar_freq_ghz=5.0)"
   ]
  },
  {
   "cell_type": "markdown",
   "metadata": {},
   "source": [
    "## step 4: \n",
    "### Do fitting! There are 2 options:\n",
    "- single pixel mode\n",
    "- batch mode"
   ]
  },
  {
   "cell_type": "markdown",
   "metadata": {},
   "source": [
    "### Single Pixel Mode: you can provide the coord of interest in Solar XY or Pixel"
   ]
  },
  {
   "cell_type": "code",
   "execution_count": 18,
   "metadata": {},
   "outputs": [
    {
     "name": "stdout",
     "output_type": "stream",
     "text": [
      "Current fitting range is 3000000000.0 - 14000000000.0 Hz\n",
      "Long inputs are:  [ 6  0  1 35  1  1]\n",
      "Real inputs are:  [1.7e-01 1.0e-06 1.0e+00 4.0e+00 8.0e+00 1.5e-02]\n",
      "Params(ranges) are:  [[1.0e+01 1.0e-04 2.0e+03]\n",
      " [1.0e+00 1.0e-02 1.0e+01]\n",
      " [6.0e+01 2.2e+01 8.7e+01]\n",
      " [1.0e+01 1.0e-02 6.0e+02]\n",
      " [3.5e+00 1.6e+00 1.0e+01]\n",
      " [5.0e+00 1.0e-01 1.0e+01]\n",
      " [1.0e+01 1.5e+00 6.0e+01]]\n",
      "1 pixels to be fitted\n",
      "will be fitted in plotting (single pixel) mode\n"
     ]
    },
    {
     "name": "stdin",
     "output_type": "stream",
     "text": [
      "Do you want to continue? Enter 'y' for Yes or 'n' for No:  y\n"
     ]
    },
    {
     "name": "stdout",
     "output_type": "stream",
     "text": [
      "Continuing...\n"
     ]
    },
    {
     "data": {
      "image/png": "[encoded data removed]",
      "text/plain": [
       "<Figure size 432x288 with 1 Axes>"
      ]
     },
     "metadata": {
      "needs_background": "light"
     },
     "output_type": "display_data"
    },
    {
     "data": {
      "text/plain": [
       "1"
      ]
     },
     "execution_count": 18,
     "metadata": {},
     "output_type": "execute_result"
    }
   ],
   "source": [
    "#skip tag\n",
    "gs.start_freq = 3.e9\n",
    "gs.end_freq = 14.e9\n",
    "#gs.do_fit(mode='single', inp_coord=[9,-261])\n",
    "gs.do_fit(mode='single', inp_coord=[127, 122], world=False)#inp_coord is always in x(122),y(152) order. "
   ]
  },
  {
   "cell_type": "markdown",
   "metadata": {},
   "source": [
    "### batch Mode: create multiple tasks(all the unmasked pixels), the results will be saved as pickles (task_***.p) in gs.out_dir, and will not be displayed."
   ]
  },
  {
   "cell_type": "code",
   "execution_count": 4,
   "metadata": {},
   "outputs": [
    {
     "name": "stdout",
     "output_type": "stream",
     "text": [
      "Current fitting range is 3300000000.0 - 14000000000.0 Hz\n",
      "Long inputs are:  [ 7  0  1 34  1  1]\n",
      "Real inputs are:  [1.7e-01 1.0e-06 1.0e+00 4.0e+00 8.0e+00 1.5e-02]\n",
      "Params(ranges) are:  [[1.0e+01 1.0e-04 2.0e+03]\n",
      " [4.0e+00 1.0e-02 3.0e+01]\n",
      " [6.0e+01 2.2e+01 8.7e+01]\n",
      " [1.0e+01 1.0e-02 6.0e+02]\n",
      " [4.5e+00 1.6e+00 1.0e+01]\n",
      " [5.0e+00 1.0e-01 1.0e+01]\n",
      " [5.0e+00 1.5e+00 6.0e+01]]\n",
      "100 pixels to be fitted\n",
      "will be fitted in plotting (single pixel) mode\n"
     ]
    },
    {
     "name": "stdin",
     "output_type": "stream",
     "text": [
      "Do you want to continue? Enter 'y' for Yes or 'n' for No:  y\n"
     ]
    },
    {
     "name": "stdout",
     "output_type": "stream",
     "text": [
      "Continuing...\n"
     ]
    },
    {
     "data": {
      "text/plain": [
       "1"
      ]
     },
     "execution_count": 4,
     "metadata": {},
     "output_type": "execute_result"
    }
   ],
   "source": [
    "#gs.out_dir = '/Dummy/abc/123/fake_dir/' # define a out_dir if you didn't do it during the initilization. \n",
    "#gs.update_flux_threshold_mask(threshold=6)\n",
    "gs.start_freq = 3.3e9\n",
    "gs.end_freq = 14.e9\n",
    "gs.do_fit(mode='batch')"
   ]
  },
  {
   "cell_type": "markdown",
   "metadata": {},
   "source": [
    "### Export all the cells without \"#skip tag\" to a python script (Note that the file name of the current notebook is manually defined.)"
   ]
  },
  {
   "cell_type": "code",
   "execution_count": 7,
   "metadata": {},
   "outputs": [
    {
     "name": "stdout",
     "output_type": "stream",
     "text": [
      "/Users/walterwei/Downloads/20220511/gsfit_test/exported_notebook_cells.py  is saved.\n"
     ]
    }
   ],
   "source": [
    "#skip tag\n",
    "import json\n",
    "notebook_path = os.path.join(os.getcwd(), 'Tutorial.ipynb')\n",
    "pyfile_path = os.path.join(gs.out_dir, 'exported_notebook_cells.py')\n",
    "with open(notebook_path, 'r') as nbfile:\n",
    "    notebook = json.load(nbfile)\n",
    "with open(pyfile_path, 'w') as pyfile:\n",
    "    for cell in notebook['cells']:\n",
    "        if cell['cell_type'] == 'code' and '#skip tag\\n' not in cell['source'] and '#init multiple\\n' not in cell['source']:\n",
    "            # Write the cell content to file, excluding '#skip tag'\n",
    "            pyfile.write(''.join(cell['source']) + '\\n\\n')\n",
    "print(pyfile_path, ' is saved.')"
   ]
  },
  {
   "cell_type": "code",
   "execution_count": 2,
   "metadata": {},
   "outputs": [],
   "source": [
    "#init multiple\n",
    "from pygsfit_cp import *\n",
    "import os\n",
    "import pkg_resources\n",
    "from pygsfit_cp_utils import *\n",
    "package_path = pkg_resources.resource_filename('pygsfit_cp', '')\n",
    "os.chdir(package_path)\n",
    "fit_fov = [[925,-265],[935,-255]]\n",
    "out_dir='/Users/walterwei/Downloads/20220511/gsfit_test'\n",
    "eovsa_map_cubes = makelist(tdir = '/Users/walterwei/Downloads/20220511/gsfit_test/fitsfile_test/', keyword1='.fits')\n",
    "for emi, ceomap in enumerate(eovsa_map_cubes):\n",
    "    gs = pygsfit_cp(filename=ceomap, out_dir=out_dir, fit_fov=[[920,-270],[940,-250]])"
   ]
  },
  {
   "cell_type": "markdown",
   "metadata": {},
   "source": [
    "### If you want to fit multiple time frame with identical parameters:\n",
    "- export the script by running the following cell\n",
    "- run the exported script"
   ]
  },
  {
   "cell_type": "code",
   "execution_count": 4,
   "metadata": {},
   "outputs": [
    {
     "name": "stdout",
     "output_type": "stream",
     "text": [
      "/Users/walterwei/Downloads/20220511/gsfit_test/multiple_time_exported_notebook_cells.py  is saved.\n"
     ]
    }
   ],
   "source": [
    "#skip tag\n",
    "import os\n",
    "import json\n",
    "\n",
    "# Define paths\n",
    "notebook_path = os.path.join(os.getcwd(), 'Tutorial.ipynb')\n",
    "pyfile_path = os.path.join(gs.out_dir, 'multiple_time_exported_notebook_cells.py')\n",
    "exclude_tags = {'#skip tag\\n', '#init multiple\\n', '#init single\\n'}\n",
    "# Load the notebook\n",
    "with open(notebook_path, 'r') as nbfile:\n",
    "    notebook = json.load(nbfile)\n",
    "# Open the output Python file\n",
    "with open(pyfile_path, 'w') as pyfile:    \n",
    "    for cell in notebook['cells']:\n",
    "        if cell['cell_type'] == 'code' and '#init multiple\\n' in cell['source']:\n",
    "            pyfile.write(''.join(cell['source']) + '\\n\\n')\n",
    "            break    \n",
    "    for cell in notebook['cells']:\n",
    "        if cell['cell_type'] == 'code' and not any(tag in cell['source'] for tag in exclude_tags):\n",
    "            indented_source = ''.join('    ' + line for line in cell['source'])\n",
    "            pyfile.write(indented_source + '\\n\\n')\n",
    "print(pyfile_path, ' is saved.')"
   ]
  },
  {
   "cell_type": "markdown",
   "metadata": {},
   "source": [
    "### export the fitting results to gsfitview in IDL"
   ]
  },
  {
   "cell_type": "code",
   "execution_count": 3,
   "metadata": {},
   "outputs": [],
   "source": [
    "from results_convertor import create_params_map\n",
    "res_list = makelist(tdir='/Users/walterwei/Downloads/20220511/gsfit_test/', keyword1='allbd.h5')\n",
    "for i, cres in enumerate(res_list):\n",
    "    create_params_map(cres)"
   ]
  },
  {
   "cell_type": "code",
   "execution_count": null,
   "metadata": {},
   "outputs": [],
   "source": []
  }
 ],
 "metadata": {
  "kernelspec": {
   "display_name": "Python 3 (ipykernel)",
   "language": "python",
   "name": "python3"
  },
  "language_info": {
   "codemirror_mode": {
    "name": "ipython",
    "version": 3
   },
   "file_extension": ".py",
   "mimetype": "text/x-python",
   "name": "python",
   "nbconvert_exporter": "python",
   "pygments_lexer": "ipython3",
   "version": "3.10.4"
  }
 },
 "nbformat": 4,
 "nbformat_minor": 4
}
