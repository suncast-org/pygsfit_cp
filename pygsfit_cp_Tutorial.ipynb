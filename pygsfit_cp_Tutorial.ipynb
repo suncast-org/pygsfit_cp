{
 "cells": [
  {
   "cell_type": "markdown",
   "id": "1c1713b9-c243-47aa-a75d-5f616f408b83",
   "metadata": {},
   "source": [
    "## If you are happy with all the fitting parameters, please use the the fitting script directly."
   ]
  },
  {
   "cell_type": "code",
   "execution_count": 22,
   "id": "67e098d4-052a-45f1-a569-b48895c3d155",
   "metadata": {},
   "outputs": [],
   "source": [
    "%matplotlib inline"
   ]
  },
  {
   "cell_type": "markdown",
   "id": "c851fd5a-5838-4101-a510-da88fab37d2e",
   "metadata": {},
   "source": [
    "## step1: create a pygsfit_cp object with EOVSA image cube and the path to save the fitting results files."
   ]
  },
  {
   "cell_type": "code",
   "execution_count": 23,
   "id": "7871b0ed-1d8b-49cb-b567-d006ef5b9c64",
   "metadata": {},
   "outputs": [
    {
     "name": "stdout",
     "output_type": "stream",
     "text": [
      "The EOVSA image cube is loaded, which is in size of 50(freqs) * 256pix * 256pix\n"
     ]
    }
   ],
   "source": [
    "#init_script\n",
    "from pygsfit_cp import *\n",
    "import os\n",
    "import pkg_resources\n",
    "package_path = pkg_resources.resource_filename('pygsfit_cp', '')\n",
    "gs = pygsfit_cp(out_dir='/Users/walterwei/Downloads/20220511/gsfit_test/test_0918/') #filename by default is ./demo/eovsa_allbd_demo_0.fits\n",
    "print('The EOVSA image cube is loaded, which is in size of {0}(freqs) * {1}pix * {2}pix'.format(*gs.flux_data.shape))"
   ]
  },
  {
   "cell_type": "markdown",
   "id": "aad2df57-5f9b-4bd4-8ef5-765c102efd2b",
   "metadata": {},
   "source": [
    "## step2 （Optional）: \n",
    "### read the documentation of input arrays then adjust the input arrays"
   ]
  },
  {
   "cell_type": "code",
   "execution_count": 3,
   "id": "cfe99867-f453-42e8-b3cd-1e0cf29c06be",
   "metadata": {},
   "outputs": [
    {
     "name": "stdout",
     "output_type": "stream",
     "text": [
      "=============\n",
      "       Nparms;           7              ; ;user ;Number of fit Parms\n",
      " Angular Code;           0             ; ;user ;0L for PK, 1L for FK\n",
      "         Npix;           1     ; ;data ;Number of pixels sent to dll\n",
      "        Nfreqst;          24  ; ;data ;Number of frequencies in the sp\n",
      " Fitting Mode;           1  ; ;user ;Case of the fit: I:1, L&R:2, I&\n",
      "  Stokes Data;           1  ; ;data ;Case of the data: I:1, L&R:2, I\n",
      "\n",
      "=============\n",
      "=============\n",
      "   SIMPLEX Step;   0.170       ;   ;user                           ;SIMPLEX Step\n",
      "    SIMPLEX EPS;   0.100E-05   ;   ;user                       ;SIMPLEX accuracy\n",
      " Flux Threshold;    1.00        ;sfu*GHz     ; user ;Flux threshold to be fitted\n",
      "     Pixel Area;    4.00       ;arcsec^2    ;data ;Number of pixels along y axes\n",
      "      LOS Depth;    8.00        ;arcsec               ;user ;LOS depth (assumed)\n",
      "           ;   0.150E-01  ;MeV ;user            ;Min energy in PLW (assumed)\n",
      "\n",
      "=============\n",
      "=============\n",
      "      n_nth;    1.00    ;   0.100E-03;   0.200E+04;   1d7 cm^-3                    ;Non-thermal density\n",
      "          B;    4.00    ;   0.100E-01;    30.0    ;       1d2G                          ;Magnetic field\n",
      "      theta;    60.0    ;    22.0    ;    87.0    ;         deg                     ;Viewing angle to B\n",
      "       n_th;    10.0    ;   0.100E-01;    600.    ;   1d9 cm^-3                        ;Thermal density\n",
      "      Delta;    4.50    ;    1.70    ;    15.0    ;          No                     ;PLW spectral index\n",
      "      E_max;    5.00    ;   0.100    ;    10.0    ;         MeV                      ;Max energy in PLW\n",
      "        T_e;    5.00    ;    1.50    ;    60.0    ;          MK                            ;Temperature\n",
      "\n",
      "=============\n"
     ]
    }
   ],
   "source": [
    "#skip tag\n",
    "#read the documentation of 'ninput', 'rinput', and 'initial_parguess' (Only these 3 files at this moment)\n",
    "gs.documentation('ninput')\n",
    "gs.documentation('rinput')\n",
    "gs.documentation('initial_parguess')"
   ]
  },
  {
   "cell_type": "markdown",
   "id": "fc33d6b5-ff9e-42bf-9db0-a898bc37a761",
   "metadata": {},
   "source": [
    "### adjust the input arrays as needed. Also set the demanded threshold in sfu for masking "
   ]
  },
  {
   "cell_type": "code",
   "execution_count": 4,
   "id": "7148f919-9063-49ce-8c7f-0c9ba476f9b7",
   "metadata": {},
   "outputs": [],
   "source": [
    "#to_script tag\n",
    "gs.ninput = np.array([6, 0, 1, 30, 1, 1], dtype='int32') #Nparms, Angular_mode,Npix, Nfreq(will be replaced) fitting mode, stokes\n",
    "gs.rinput = np.array([0.17, 1e-6, 1.0, 4.0, 8.0, 0.015], dtype='float64')  # real_input\n",
    "gs.initial_parguess = np.array([ # *Value, *lower boundary * upper boundary\n",
    "                [10.0, 0.0001, 2000.0], #n_nth;    1d7 cm^-3\n",
    "                [1.0, 0.01, 10.0], #B;    1d2G\n",
    "                [60.0, 22.0, 87.0], #theta;    deg\n",
    "                [10.0, 0.01, 600.0], #n_th;    1d9 cm^-3\n",
    "                [3.5, 1.6, 10.0], #Delta;    No\n",
    "                [5.0, 0.1, 10.0], #E_max;    MeV\n",
    "                [10.0, 1.5, 60.0], #T_e;    MK\n",
    "            ], dtype=np.float64)\n",
    "#gs.update_flux_threshold_mask(threshold=8.0) #summed flux density > 8sfu for current pixel"
   ]
  },
  {
   "cell_type": "markdown",
   "id": "1a73f2f0-7474-4a12-8628-cf4e84b43e65",
   "metadata": {},
   "source": [
    "### check the fitting mask and rms region"
   ]
  },
  {
   "cell_type": "code",
   "execution_count": 24,
   "id": "f151cee2-e5c6-4be7-804f-e6908fa3b5b4",
   "metadata": {},
   "outputs": [
    {
     "data": {
      "image/png": "[encoded data removed]",
      "text/plain": [
       "<Figure size 432x288 with 2 Axes>"
      ]
     },
     "metadata": {
      "needs_background": "light"
     },
     "output_type": "display_data"
    }
   ],
   "source": [
    "gs.plot_threshold_mask_rms(tar_freq_ghz=5.0) # tar_freq_ghz: Displayed frequency in GHz"
   ]
  },
  {
   "cell_type": "markdown",
   "id": "957badc5-0163-48d7-aafd-56401ac92f2f",
   "metadata": {},
   "source": [
    "## Step 3: \n",
    "### Adjust the ROI(region of interested) and the related parameters\n",
    "### Display the default setting: \n",
    "- background_xyrange = [[0.15,0.75],[0.25,0.85]] (RMS region in percentage of x and y range)\n",
    "- integrated_threshold_sfu = 1 (Threshold on the integrated flux density in one pixel)\n",
    "- rms_factor = 4 (The weight of RMS in the uncertainty calculation)\n",
    "### The final mask would be FOV intersected with the flux density threshold mask."
   ]
  },
  {
   "cell_type": "code",
   "execution_count": 25,
   "id": "48d0a634-084c-46ff-ad53-65d3cbf13b0d",
   "metadata": {},
   "outputs": [],
   "source": [
    "# change the fov\n",
    "gs.fit_fov = [[880,-360],[1000,-210]]"
   ]
  },
  {
   "cell_type": "code",
   "execution_count": 27,
   "id": "3f454220-7a9c-4205-8433-bc73869b21b5",
   "metadata": {},
   "outputs": [],
   "source": [
    "#to_script tag\n",
    "gs.rms_factor = 4\n",
    "gs.update_rms()\n",
    "gs.integrated_threshold_sfu = 1.0\n",
    "gs.update_flux_threshold_mask()\n",
    "gs.background_xyrange = [[0.45,0.75],[0.55,0.85]] #"
   ]
  },
  {
   "cell_type": "markdown",
   "id": "af49f8fa-bd45-4da9-8ca5-8913beb5a6a6",
   "metadata": {},
   "source": [
    "### check the fitting mask and rms region"
   ]
  },
  {
   "cell_type": "code",
   "execution_count": 28,
   "id": "2f24af89-30cb-4594-9d99-92635e26cca8",
   "metadata": {},
   "outputs": [
    {
     "data": {
      "image/png": "[encoded data removed]",
      "text/plain": [
       "<Figure size 432x288 with 2 Axes>"
      ]
     },
     "metadata": {
      "needs_background": "light"
     },
     "output_type": "display_data"
    }
   ],
   "source": [
    "gs.plot_threshold_mask_rms(tar_freq_ghz=5.0) # tar_freq_ghz: Displayed frequency in GHz"
   ]
  },
  {
   "cell_type": "markdown",
   "id": "6d555167-0d56-484c-91f0-5594d53b7506",
   "metadata": {},
   "source": [
    "## step 4: \n",
    "### Do fitting! There are 2 options:\n",
    "- single pixel mode\n",
    "- batch mode (single or multiple frames)"
   ]
  },
  {
   "cell_type": "markdown",
   "id": "631a1417-3ca6-484a-b7d4-c1bf2a324ca8",
   "metadata": {},
   "source": [
    "### Single Pixel Mode: you can provide the coord of interest in Solar XY or Pixel"
   ]
  },
  {
   "cell_type": "code",
   "execution_count": 29,
   "id": "5a112f1c-a2e1-4c72-b015-191e9413270b",
   "metadata": {},
   "outputs": [],
   "source": [
    "#to_script tag\n",
    "gs.start_freq = 4.e9\n",
    "gs.end_freq = 14.e9"
   ]
  },
  {
   "cell_type": "code",
   "execution_count": 18,
   "id": "d9fea44a-dc28-4bf4-907d-471e5c5ce683",
   "metadata": {},
   "outputs": [
    {
     "name": "stdout",
     "output_type": "stream",
     "text": [
      "Current fitting range is 4000000000.0 - 14000000000.0 Hz\n",
      "Long inputs are:  [ 6  0  1 32  1  1]\n",
      "Real inputs are:  [1.7e-01 1.0e-06 1.0e+00 4.0e+00 8.0e+00 1.5e-02]\n",
      "Params(ranges) are:  [[1.0e+01 1.0e-04 2.0e+03]\n",
      " [1.0e+00 1.0e-02 1.0e+01]\n",
      " [6.0e+01 2.2e+01 8.7e+01]\n",
      " [1.0e+01 1.0e-02 6.0e+02]\n",
      " [3.5e+00 1.6e+00 1.0e+01]\n",
      " [5.0e+00 1.0e-01 1.0e+01]\n",
      " [1.0e+01 1.5e+00 6.0e+01]]\n",
      "1 pixels to be fitted\n",
      "will be fitted in batch mode\n"
     ]
    },
    {
     "data": {
      "image/png": "[encoded data removed]",
      "text/plain": [
       "<Figure size 432x288 with 1 Axes>"
      ]
     },
     "metadata": {
      "needs_background": "light"
     },
     "output_type": "display_data"
    },
    {
     "data": {
      "text/plain": [
       "1"
      ]
     },
     "execution_count": 18,
     "metadata": {},
     "output_type": "execute_result"
    }
   ],
   "source": [
    "\n",
    "#gs.do_fit(mode='single', inp_coord=[9,-261])\n",
    "gs.do_fit(mode='single', inp_coord=[933, -260], world=True)#inp_coord is always in x(122),y(152) order. "
   ]
  },
  {
   "cell_type": "markdown",
   "id": "9e963421-2218-4a8e-a3b4-988677dd626c",
   "metadata": {},
   "source": [
    "### batch Mode: create multiple tasks(all the unmasked pixels), the results will be saved in a pickle file. And will be combine to a hdf5 file later"
   ]
  },
  {
   "cell_type": "markdown",
   "id": "d716a002-d258-4a6c-9301-092ad3f79f84",
   "metadata": {},
   "source": [
    "## Export fitting scripts \n",
    "### If you are happy with the current results and want to fit a time series (or single frame) with the same parameters used here, please modify the information in the cell starts with\n",
    "## '#init multiple' tag\n",
    "### in the Appendix. \n",
    "## FOV must be provided at this step!\n",
    "### Then, run the FOLLOWING cell to export a fitting script:"
   ]
  },
  {
   "cell_type": "code",
   "execution_count": 30,
   "id": "fc0c34bd-6e00-4de1-a5bd-1ab756471fda",
   "metadata": {},
   "outputs": [
    {
     "name": "stdout",
     "output_type": "stream",
     "text": [
      "/Users/walterwei/Downloads/20220511/gsfit_test/test_0918/exported_notebook_cells.py is saved.\n"
     ]
    }
   ],
   "source": [
    "#!!!!please modify the information in the cell starting with the '#init multiple' tag.\n",
    "notebook_path = os.path.join(os.getcwd(), 'Tut.ipynb') #MAKE SURE the file name is correct\n",
    "mt_pyfile_path = os.path.join(gs.out_dir, 'exported_notebook_cells.py') #replace with your own path\n",
    "gs.save_notebook_cells(notebook_path, mt_pyfile_path)"
   ]
  },
  {
   "cell_type": "markdown",
   "id": "44549a96-fc3c-47d2-840b-454aec1c4781",
   "metadata": {},
   "source": [
    "## Step 5 Examing fitting and the parameter maps in gsfitview (in sswidl)\n",
    "### By running the python script created by the cell above, you'll got:\n",
    "* An IDL script: make_params_maps.pro\n",
    "* A .h5 file which contains all the fitting results: fitting_results.h5\n",
    "### in your output dir.\n",
    "### Then, run the IDL script: make_params_maps.pro in IDL without any modification, you'll get a save file: parameters_map.sav (or you own filename if you modified the .pro file), which can be loaded in the gsfitview."
   ]
  },
  {
   "cell_type": "markdown",
   "id": "54424c4b-84df-4ffd-8e1c-a511b8fcc8a4",
   "metadata": {},
   "source": [
    "## Step6: Complain to [Yuqian](yw633@njit.edu) that this crappy code doesn't work at all."
   ]
  },
  {
   "cell_type": "markdown",
   "id": "1ae48ace-ad34-4f0e-ae5d-a5cb6db79295",
   "metadata": {},
   "source": [
    "# Appendix: \n",
    "## The following cells are used to create a new scipt, please DO NOT run it in the notebook directly. \n",
    "### mapcubes_dir: the inpuy can be a folder, a fits file, or a mainstream zip file (.zip, .tar, .tar.gz, .tar.bz2 files)"
   ]
  },
  {
   "cell_type": "code",
   "execution_count": null,
   "id": "f8021eac-be42-40b2-b4d3-5c392ec5984a",
   "metadata": {},
   "outputs": [],
   "source": [
    "#init multiple\n",
    "package_path = pkg_resources.resource_filename('pygsfit_cp', '')\n",
    "out_dir='/Users/walterwei/Downloads/20220511/gsfit_test/test_0918/'\n",
    "#out_dir = None # will use default: ~/pygsfit_cp_output\n",
    "inp_fov = [[880,-340],[1000,-210]] #please use the value you tested in the previous cells\n",
    "mapcubes_dir = package_path+'/demo/' # Replace with your own data folder or fits file or .zip, .tar, .tar.gz, .tar.bz2 files\n",
    "eovsa_map_cubes = process_input_path(mapcubes_dir)\n",
    "if not eovsa_map_cubes:\n",
    "    print(\"The input list is empty. Please check your mapcubes_dir.\")\n",
    "    sys.exit(1)  # Exit with a non-zero status to indicate an error\n",
    "cur_fixed_mask = get_fixed_fov_mask(eovsa_map_cubes[0],inp_fov)\n",
    "map_files_by_frame = []\n",
    "fitting_files_by_frame = []\n",
    "for emi, ceomap in enumerate(eovsa_map_cubes):\n",
    "    gs = pygsfit_cp(filename=ceomap, out_dir=out_dir)\n",
    "    gs.pix_mask = cur_fixed_mask"
   ]
  },
  {
   "cell_type": "code",
   "execution_count": null,
   "id": "1b164695-30e0-4f80-abb4-e2ef021efab3",
   "metadata": {},
   "outputs": [],
   "source": [
    "cur_fixed_mask = create_fov_mask(self.meta['refmap'], self.fit_fov))\n",
    "gs."
   ]
  },
  {
   "cell_type": "markdown",
   "id": "95117bec-398c-488e-8cfc-b8f26c56bf41",
   "metadata": {},
   "source": [
    "## Data structure for each task is: \n",
    "Group: task_0001\n",
    "    ├── Dataset: task_0001/aparms\n",
    "    ├── Dataset: task_0001/eparms\n",
    "    ├── Group: task_0001/info\n",
    "    │   ├── Dataset: task_0001/info/coord\n",
    "    │   ├── Dataset: task_0001/info/data_saved_range\n",
    "    │   ├── Dataset: task_0001/info/end_freq_idx\n",
    "    │   ├── Dataset: task_0001/info/filename\n",
    "    │   ├── Dataset: task_0001/info/freq_fitted\n",
    "    │   ├── Dataset: task_0001/info/ninput\n",
    "    │   ├── Dataset: task_0001/info/out_dir\n",
    "    │   ├── Dataset: task_0001/info/parguess\n",
    "    │   ├── Dataset: task_0001/info/rinput\n",
    "    │   ├── Dataset: task_0001/info/rms_range\n",
    "    │   ├── Dataset: task_0001/info/spec_in\n",
    "    │   ├── Dataset: task_0001/info/start_freq_idx\n",
    "    │   ├── Dataset: task_0001/info/task_idx\n",
    "    │   └── Dataset: task_0001/info/world_center\n",
    "    ├── Dataset: task_0001/spec_out"
   ]
  },
  {
   "cell_type": "code",
   "execution_count": 16,
   "id": "e6adf89a-34c2-4c08-adae-6056ca3f23cc",
   "metadata": {},
   "outputs": [
    {
     "name": "stdout",
     "output_type": "stream",
     "text": [
      "Current fitting range is 3000000000.0 - 14000000000.0 Hz\n",
      "Long inputs are:  [ 6  0  1 35  1  1]\n",
      "Real inputs are:  [1.7e-01 1.0e-06 1.0e+00 4.0e+00 8.0e+00 1.5e-02]\n",
      "Params(ranges) are:  [[1.0e+01 1.0e-04 2.0e+03]\n",
      " [1.0e+00 1.0e-02 1.0e+01]\n",
      " [6.0e+01 2.2e+01 8.7e+01]\n",
      " [1.0e+01 1.0e-02 6.0e+02]\n",
      " [3.5e+00 1.6e+00 1.0e+01]\n",
      " [5.0e+00 1.0e-01 1.0e+01]\n",
      " [1.0e+01 1.5e+00 6.0e+01]]\n",
      "68 pixels to be fitted\n",
      "will be fitted in batch mode\n"
     ]
    }
   ],
   "source": [
    "#to_script tag\n",
    "#gs.update_flux_threshold_mask()\n",
    "cur_save_file = gs.do_fit(mode='batch')"
   ]
  },
  {
   "cell_type": "code",
   "execution_count": null,
   "id": "a95406ab-eff2-4e47-b60e-2e0ecb51e820",
   "metadata": {},
   "outputs": [],
   "source": []
  }
 ],
 "metadata": {
  "kernelspec": {
   "display_name": "Python 3 (ipykernel)",
   "language": "python",
   "name": "python3"
  },
  "language_info": {
   "codemirror_mode": {
    "name": "ipython",
    "version": 3
   },
   "file_extension": ".py",
   "mimetype": "text/x-python",
   "name": "python",
   "nbconvert_exporter": "python",
   "pygments_lexer": "ipython3",
   "version": "3.10.4"
  }
 },
 "nbformat": 4,
 "nbformat_minor": 5
}
